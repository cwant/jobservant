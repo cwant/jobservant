{
 "cells": [
  {
   "cell_type": "code",
   "execution_count": 1,
   "metadata": {},
   "outputs": [],
   "source": [
    "import os\n",
    "import sys\n",
    "this_dir = os.path.dirname(os.path.realpath('.'))\n",
    "sys.path.append(this_dir)\n",
    "\n",
    "import jobservant\n",
    "from jobservant.cluster_account import ClusterAccount"
   ]
  },
  {
   "cell_type": "code",
   "execution_count": 2,
   "metadata": {},
   "outputs": [],
   "source": [
    "cluster_account = ClusterAccount(server='cedar.computecanada.ca', debug=True)"
   ]
  },
  {
   "cell_type": "code",
   "execution_count": 3,
   "metadata": {},
   "outputs": [],
   "source": [
    "script = \"\"\"\n",
    "hostname\n",
    "echo 'Hello World'\n",
    "sleep 300\n",
    "\"\"\""
   ]
  },
  {
   "cell_type": "code",
   "execution_count": 4,
   "metadata": {},
   "outputs": [
    {
     "name": "stdout",
     "output_type": "stream",
     "text": [
      "test -d /scratch/cwant\n",
      "test -d /scratch/cwant/cluster_job_TLXmh91Zr3M5pDffHP2z\n",
      "mkdir -p /scratch/cwant/cluster_job_TLXmh91Zr3M5pDffHP2z\n",
      "echo IyEvYmluL3NoCiNTQkFUQ0ggLS1hY2NvdW50PWRlZi1jd2FudC1hZQojU0JBVENIIC0tdGltZT0wNjowMDowMAoKaG9zdG5hbWUKZWNobyAnSGVsbG8gV29ybGQnCnNsZWVwIDMwMAo= | base64 --decode > /scratch/cwant/cluster_job_TLXmh91Zr3M5pDffHP2z/job_submit.sh\n",
      "cd /scratch/cwant/cluster_job_TLXmh91Zr3M5pDffHP2z && sbatch /scratch/cwant/cluster_job_TLXmh91Zr3M5pDffHP2z/job_submit.sh\n",
      "Submitted batch job 15089115\n",
      "\n"
     ]
    }
   ],
   "source": [
    "job = cluster_account.submit_job(text=script,\n",
    "                                 accounting_group='def-cwant-ae',\n",
    "                                 time='06:00:00')"
   ]
  },
  {
   "cell_type": "code",
   "execution_count": 15,
   "metadata": {},
   "outputs": [
    {
     "name": "stdout",
     "output_type": "stream",
     "text": [
      "squeue -j 15089115 -o \"%i,%t,%V,%S,%e\"\n",
      "['JOBID,ST,SUBMIT_TIME,START_TIME,END_TIME\\n', '15089115,R,2018-12-29T15:29:17,2018-12-29T15:36:22,2018-12-29T21:36:22\\n']\n",
      "2\n",
      "date --iso-8601=seconds\n"
     ]
    },
    {
     "data": {
      "text/plain": [
       "{'jobid': '15089115', 'status': 'running', 'done': 0.17074074074074075}"
      ]
     },
     "execution_count": 15,
     "metadata": {},
     "output_type": "execute_result"
    }
   ],
   "source": [
    "job.status()"
   ]
  },
  {
   "cell_type": "code",
   "execution_count": null,
   "metadata": {},
   "outputs": [],
   "source": [
    "job.jobid\n"
   ]
  },
  {
   "cell_type": "code",
   "execution_count": null,
   "metadata": {},
   "outputs": [],
   "source": [
    "job.work_directory"
   ]
  },
  {
   "cell_type": "code",
   "execution_count": 16,
   "metadata": {},
   "outputs": [
    {
     "name": "stdout",
     "output_type": "stream",
     "text": [
      "squeue -j 15089115 -o \"%i,%t,%V,%S,%e\"\n",
      "cat /scratch/cwant/cluster_job_TLXmh91Zr3M5pDffHP2z/slurm-15089115.out\n"
     ]
    },
    {
     "data": {
      "text/plain": [
       "'cdr641.int.cedar.computecanada.ca\\nHello World\\n'"
      ]
     },
     "execution_count": 16,
     "metadata": {},
     "output_type": "execute_result"
    }
   ],
   "source": [
    "job.output()"
   ]
  },
  {
   "cell_type": "code",
   "execution_count": 17,
   "metadata": {},
   "outputs": [],
   "source": [
    "import ipywidgets"
   ]
  }
 ],
 "metadata": {
  "kernelspec": {
   "display_name": "Python 3",
   "language": "python",
   "name": "python3"
  },
  "language_info": {
   "codemirror_mode": {
    "name": "ipython",
    "version": 3
   },
   "file_extension": ".py",
   "mimetype": "text/x-python",
   "name": "python",
   "nbconvert_exporter": "python",
   "pygments_lexer": "ipython3",
   "version": "3.7.1"
  }
 },
 "nbformat": 4,
 "nbformat_minor": 2
}
