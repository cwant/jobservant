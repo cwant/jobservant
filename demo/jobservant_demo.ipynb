{
 "cells": [
  {
   "cell_type": "markdown",
   "metadata": {},
   "source": [
    "# Imports"
   ]
  },
  {
   "cell_type": "code",
   "execution_count": null,
   "metadata": {},
   "outputs": [],
   "source": [
    "from importlib import reload\n",
    "import os\n",
    "import sys\n",
    "\n",
    "# Find jobservant\n",
    "this_dir = os.path.dirname(os.path.realpath('.'))\n",
    "sys.path.append(this_dir)\n",
    "\n",
    "# Load / reload jobservant\n",
    "import jobservant\n",
    "import jobservant.cluster_account\n",
    "import jobservant.jupyter.job_progress\n",
    "reload(jobservant)\n",
    "reload(jobservant.cluster_account)\n",
    "reload(jobservant.jupyter.job_progress)\n",
    "\n",
    "from jobservant.cluster_account import ClusterAccount\n",
    "from jobservant.jupyter.job_progress import JobProgress"
   ]
  },
  {
   "cell_type": "markdown",
   "metadata": {},
   "source": [
    "# Set cluster, accounting group, script, etc.\n",
    "Some variables can either be set in this notebook, or in environment variables.\n",
    "\n",
    "It is assumed that this notebook is running in an SSH agent with keys loaded."
   ]
  },
  {
   "cell_type": "code",
   "execution_count": null,
   "metadata": {},
   "outputs": [],
   "source": [
    "cluster_name = os.environ.get('JOBSERVANT_CLUSTER') or 'cluster.name.here.please'\n",
    "accounting_group = os.environ.get('JOBSERVANT_ACCOUNTING_GROUP') or 'accounting-group-here-please'\n",
    "walltime = '00:06:00'\n",
    "\n",
    "script = \"\"\"\n",
    "hostname\n",
    "echo 'Hello World'\n",
    "sleep 300\n",
    "\"\"\""
   ]
  },
  {
   "cell_type": "markdown",
   "metadata": {},
   "source": [
    "# Connect to cluster and submit job"
   ]
  },
  {
   "cell_type": "code",
   "execution_count": null,
   "metadata": {},
   "outputs": [],
   "source": [
    "cluster_account = ClusterAccount(server=cluster_name, debug=True)\n",
    "\n",
    "job = cluster_account.submit_job(text=script,\n",
    "                                 accounting_group=accounting_group,\n",
    "                                 time=walltime)"
   ]
  },
  {
   "cell_type": "markdown",
   "metadata": {},
   "source": [
    "# Monitor progress of job\n",
    "Runs in the background so other cells can run"
   ]
  },
  {
   "cell_type": "code",
   "execution_count": null,
   "metadata": {},
   "outputs": [],
   "source": [
    "job_progress = JobProgress(job)\n",
    "job_progress.init()\n",
    "\n",
    "job_progress.run_in_background()"
   ]
  },
  {
   "cell_type": "markdown",
   "metadata": {},
   "source": [
    "# Low-level job checking"
   ]
  },
  {
   "cell_type": "code",
   "execution_count": null,
   "metadata": {},
   "outputs": [],
   "source": [
    "print(job.jobid)\n",
    "print(job.work_directory)\n",
    "print(job.status())"
   ]
  },
  {
   "cell_type": "markdown",
   "metadata": {},
   "source": [
    "# Check job output\n",
    "Throws an error if the job isn't finished"
   ]
  },
  {
   "cell_type": "code",
   "execution_count": null,
   "metadata": {},
   "outputs": [],
   "source": [
    "job.output()"
   ]
  }
 ],
 "metadata": {
  "kernelspec": {
   "display_name": "Python 3",
   "language": "python",
   "name": "python3"
  },
  "language_info": {
   "codemirror_mode": {
    "name": "ipython",
    "version": 3
   },
   "file_extension": ".py",
   "mimetype": "text/x-python",
   "name": "python",
   "nbconvert_exporter": "python",
   "pygments_lexer": "ipython3",
   "version": "3.7.1"
  }
 },
 "nbformat": 4,
 "nbformat_minor": 2
}
