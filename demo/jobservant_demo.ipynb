{
 "cells": [
  {
   "cell_type": "markdown",
   "metadata": {},
   "source": [
    "# Set cluster, accounting group, script, etc.\n",
    "Some variables can either be set in this notebook, or in environment variables (`JOBSERVANT_CLUSTER` and `JOBSERVANT_ACCOUNTING_GROUP`).\n",
    "\n",
    "It is assumed that this notebook is running in an SSH agent with keys loaded, and some required python packages are installed -- see the README.md for more details."
   ]
  },
  {
   "cell_type": "code",
   "execution_count": null,
   "metadata": {},
   "outputs": [],
   "source": [
    "import os\n",
    "\n",
    "cluster_name = os.environ.get('JOBSERVANT_CLUSTER') or 'cluster.name.here.please'\n",
    "\n",
    "accounting_group = os.environ.get('JOBSERVANT_ACCOUNTING_GROUP') or 'accounting-group-here-please'\n",
    "job_params = {\n",
    "    'account': accounting_group,\n",
    "    'time': '00:01:30',\n",
    "\n",
    "    # Can ask for additional stuff, e.g.\n",
    "    # 'mem': \"1500000\"\n",
    "}\n",
    "\n",
    "# This is what we will run on the cluster:\n",
    "job_script = \"\"\"\n",
    "hostname\n",
    "echo 'Hello World'\n",
    "sleep 60\n",
    "\"\"\""
   ]
  },
  {
   "cell_type": "markdown",
   "metadata": {},
   "source": [
    "# Importing `jobservant` classes"
   ]
  },
  {
   "cell_type": "code",
   "execution_count": null,
   "metadata": {},
   "outputs": [],
   "source": [
    "import os\n",
    "import sys\n",
    "\n",
    "# Find jobservant\n",
    "this_dir = os.path.dirname(os.path.realpath('.'))\n",
    "sys.path.append(this_dir)\n",
    "\n",
    "# Load / reload jobservant\n",
    "from jobservant.cluster_account import ClusterAccount\n",
    "from jobservant.jupyter.job_presenter import JobPresenter"
   ]
  },
  {
   "cell_type": "markdown",
   "metadata": {},
   "source": [
    "# Connect to the cluster and submit a job\n",
    "\n",
    "We first create a `ClusterAccount` object, then ask it to create and submit a job for us on the cluster. A `ClusterJob` object is returned that we can use to monitor and manipulate our remote job on the cluster."
   ]
  },
  {
   "cell_type": "code",
   "execution_count": null,
   "metadata": {},
   "outputs": [],
   "source": [
    "# Try log_level='debug' for lotsa output\n",
    "# Set username='whomever' if your username isn't automatically detected\n",
    "cluster_account = ClusterAccount(server=cluster_name, log_level='info')\n",
    "\n",
    "job = cluster_account.submit_job(text=job_script, **job_params)"
   ]
  },
  {
   "cell_type": "markdown",
   "metadata": {},
   "source": [
    "# Monitor progress of job\n",
    "We'll create a `JobPresenter` object for our job and run the `progress` action on it to monitor the jobs adventure through the scheduling system. This runs in the background so other cells can run while the output is updated (configured to update every 20 seconds).\n",
    "\n",
    "Note that we've asked for the `include_output` option, so the output of the job will be displayed on job completion."
   ]
  },
  {
   "cell_type": "code",
   "execution_count": null,
   "metadata": {},
   "outputs": [],
   "source": [
    "job_presenter = JobPresenter(job)\n",
    "job_presenter.progress(include_output=True)"
   ]
  },
  {
   "cell_type": "markdown",
   "metadata": {},
   "source": [
    "# Low-level job checking\n",
    "\n",
    "The following commands can be run outside of a Jupyter notebook to inspect the current state of a job (e.g., in a script or in a console)."
   ]
  },
  {
   "cell_type": "code",
   "execution_count": null,
   "metadata": {},
   "outputs": [],
   "source": [
    "print(job.jobid, '\\n')\n",
    "print(job.work_directory, '\\n')\n",
    "print(job.status(), '\\n')\n",
    "print(job.queue_status_hash(), '\\n')\n",
    "print(job.efficiency_hash(), '\\n')"
   ]
  },
  {
   "cell_type": "markdown",
   "metadata": {},
   "source": [
    "# High-level job checking\n",
    "\n",
    "The `JobPresenter` class has a `status_table` method for viewing a nice summary of a job.\n",
    "\n",
    "This output won't auto-update, and only shows the current state."
   ]
  },
  {
   "cell_type": "code",
   "execution_count": null,
   "metadata": {},
   "outputs": [],
   "source": [
    "job_presenter.status_table()"
   ]
  },
  {
   "cell_type": "markdown",
   "metadata": {},
   "source": [
    "# Check job output manually\n",
    "Fetches the 'out' file created by the scheduler, throws an error if the job isn't finished"
   ]
  },
  {
   "cell_type": "code",
   "execution_count": null,
   "metadata": {},
   "outputs": [],
   "source": [
    "job.fetch_output()"
   ]
  },
  {
   "cell_type": "markdown",
   "metadata": {},
   "source": [
    "# Other actions\n",
    "\n",
    "```\n",
    "# Fetch stderr output at end of job\n",
    "error = job.fetch_error()\n",
    "\n",
    "# Fetch contents of any file in work directory on the cluster\n",
    "foo_buffer = job.fetch_file('foo.txt')\n",
    "\n",
    "# Create a file in the work directory on the cluster\n",
    "content = \"I am content for the file hello.txt\"\n",
    "job.create_remote_file('hello.txt', content)\n",
    "\n",
    "# Cancel job\n",
    "job.cancel()\n",
    "\n",
    "# Clean up (delete) the job directory on the cluster\n",
    "job.cleanup()\n",
    "```"
   ]
  }
 ],
 "metadata": {
  "kernelspec": {
   "display_name": "Python 3",
   "language": "python",
   "name": "python3"
  },
  "language_info": {
   "codemirror_mode": {
    "name": "ipython",
    "version": 3
   },
   "file_extension": ".py",
   "mimetype": "text/x-python",
   "name": "python",
   "nbconvert_exporter": "python",
   "pygments_lexer": "ipython3",
   "version": "3.7.1"
  }
 },
 "nbformat": 4,
 "nbformat_minor": 2
}
