{
 "cells": [
  {
   "cell_type": "markdown",
   "metadata": {},
   "source": [
    "# Preparation\n",
    "\n",
    "## On this machine ...\n",
    "\n",
    "In order for this notebook to be able to generate and plot data, you need to make sure that you have all of the packages installed first (preferably in a virual environment):\n",
    "```\n",
    "pip install numpy\n",
    "pip install pandas\n",
    "pip install matlplotlib\n",
    "pip install sklearn\n",
    "```\n",
    "\n",
    "## On the cluster ...\n",
    "\n",
    "Often worker machines on a cluster will not have full network access, so it's important to install the python packages we need upfront into a virtual environment:\n",
    "\n",
    "```\n",
    "module load python/3.7\n",
    "virtualenv --no-download ~/virtualenv_jobservant_kmeans\n",
    "source ~/virtualenv_jobservant_kmeans/bin/activate\n",
    "pip install numpy\n",
    "pip install sklearn\n",
    "```\n",
    "\n",
    "We will store the location of this virtual environment (`~/virtualenv_jobservant_kmeans`) in a variable below."
   ]
  },
  {
   "cell_type": "markdown",
   "metadata": {},
   "source": [
    "# Imports\n",
    "\n",
    "The last include is for some helper routines in a separate file (to keep this demo short and focused on jobservant)."
   ]
  },
  {
   "cell_type": "code",
   "execution_count": null,
   "metadata": {},
   "outputs": [],
   "source": [
    "from importlib import reload\n",
    "import os\n",
    "import sys\n",
    "\n",
    "# Find jobservant\n",
    "this_dir = os.path.dirname(os.path.realpath('.'))\n",
    "sys.path.append(this_dir)\n",
    "\n",
    "# Load / reload jobservant\n",
    "import jobservant\n",
    "import jobservant.cluster_account\n",
    "import jobservant.jupyter.job_display\n",
    "reload(jobservant)\n",
    "reload(jobservant.cluster_account)\n",
    "reload(jobservant.jupyter.job_display)\n",
    "\n",
    "from jobservant.cluster_account import ClusterAccount\n",
    "from jobservant.jupyter.job_display import JobDisplay\n",
    "\n",
    "import jobservant_kmeans_demo_helper\n",
    "reload(jobservant_kmeans_demo_helper)\n",
    "from jobservant_kmeans_demo_helper import get_points_and_labels, plot_clusters, numpy_to_csv, output_to_numpy"
   ]
  },
  {
   "cell_type": "markdown",
   "metadata": {},
   "source": [
    "# Create dataset\n",
    "Points are sampled from three gaussian distributions, labels indicate which distribution the point was taken from"
   ]
  },
  {
   "cell_type": "code",
   "execution_count": null,
   "metadata": {},
   "outputs": [],
   "source": [
    "xy_points, labels = get_points_and_labels()"
   ]
  },
  {
   "cell_type": "markdown",
   "metadata": {},
   "source": [
    "# Visualize dataset"
   ]
  },
  {
   "cell_type": "code",
   "execution_count": null,
   "metadata": {},
   "outputs": [],
   "source": [
    "print('First 10 xy_points: ',xy_points[:10])\n",
    "print('First 10 labels: ', labels[:10])\n",
    "plot_clusters('Labeled clusters', xy_points, labels)"
   ]
  },
  {
   "cell_type": "markdown",
   "metadata": {},
   "source": [
    "# Python script and job script for clustering detection\n",
    "If you wanted to run the clustering algorithm locally, you would just do:\n",
    "```\n",
    "from sklearn.cluster import KMeans\n",
    "kmeans_labels = KMeans(n_clusters=3, n_init=1000).fit(xy_points).labels_\n",
    "```"
   ]
  },
  {
   "cell_type": "code",
   "execution_count": null,
   "metadata": {},
   "outputs": [],
   "source": [
    "python_virtualenv ='~/virtualenv_jobservant_kmeans'\n",
    "\n",
    "kmeans_py = \"\"\"\n",
    "import numpy\n",
    "from sklearn.cluster import KMeans\n",
    "\n",
    "# Load data\n",
    "xy_points = numpy.loadtxt(open(\"xy_points.csv\", \"rb\"), delimiter=\",\")\n",
    "\n",
    "# Calculate cluster\n",
    "kmeans_labels = KMeans(n_clusters=3, n_init=1000).fit(xy_points).labels_\n",
    "\n",
    "# Print output\n",
    "for row in kmeans_labels:\n",
    "    print(row)\n",
    "\"\"\"\n",
    "\n",
    "job_script = \"\"\"\n",
    "module load python/3.7 > /dev/null 2>&1\n",
    "source %s/bin/activate\n",
    "\n",
    "python kmeans.py\n",
    "\"\"\" % (python_virtualenv)"
   ]
  },
  {
   "cell_type": "markdown",
   "metadata": {},
   "source": [
    "# Send data, scripts to the HPC cluster for clustering detection"
   ]
  },
  {
   "cell_type": "code",
   "execution_count": null,
   "metadata": {},
   "outputs": [],
   "source": [
    "cluster_name = os.environ.get('JOBSERVANT_CLUSTER') or 'cluster.name.here.please'\n",
    "accounting_group = os.environ.get('JOBSERVANT_ACCOUNTING_GROUP') or 'accounting-group-here-please'\n",
    "\n",
    "job_params = {\n",
    "    'account': accounting_group,\n",
    "    'time': '00:03:00',\n",
    "}\n",
    "\n",
    "cluster_account = ClusterAccount(server=cluster_name, log_level='info')\n",
    "job = cluster_account.create_job(text=job_script, **job_params)\n",
    "\n",
    "job.create_remote_file('xy_points.csv', numpy_to_csv(xy_points))\n",
    "job.create_remote_file('kmeans.py', kmeans_py)\n"
   ]
  },
  {
   "cell_type": "markdown",
   "metadata": {},
   "source": [
    "# Submit the job and monitor it's progress"
   ]
  },
  {
   "cell_type": "code",
   "execution_count": null,
   "metadata": {},
   "outputs": [],
   "source": [
    "job.submit()\n",
    "\n",
    "job_display = JobDisplay(job)\n",
    "job_display.progress(suppress_output=True)"
   ]
  },
  {
   "cell_type": "markdown",
   "metadata": {},
   "source": [
    "# Get output and visualize results"
   ]
  },
  {
   "cell_type": "code",
   "execution_count": null,
   "metadata": {},
   "outputs": [],
   "source": [
    "out = job.output()\n",
    "kmeans_labels = output_to_numpy(out)\n",
    "print('First 10 computed labels: ', kmeans_labels[:10])\n",
    "\n",
    "plot_clusters('Calculated clusters', xy_points, kmeans_labels)"
   ]
  }
 ],
 "metadata": {
  "kernelspec": {
   "display_name": "Python 3",
   "language": "python",
   "name": "python3"
  },
  "language_info": {
   "codemirror_mode": {
    "name": "ipython",
    "version": 3
   },
   "file_extension": ".py",
   "mimetype": "text/x-python",
   "name": "python",
   "nbconvert_exporter": "python",
   "pygments_lexer": "ipython3",
   "version": "3.7.1"
  }
 },
 "nbformat": 4,
 "nbformat_minor": 2
}
